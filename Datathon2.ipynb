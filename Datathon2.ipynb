{
  "nbformat": 4,
  "nbformat_minor": 0,
  "metadata": {
    "colab": {
      "provenance": [],
      "authorship_tag": "ABX9TyMWouIryom0l1YFsFKHw5M2",
      "include_colab_link": true
    },
    "kernelspec": {
      "name": "python3",
      "display_name": "Python 3"
    },
    "language_info": {
      "name": "python"
    }
  },
  "cells": [
    {
      "cell_type": "markdown",
      "metadata": {
        "id": "view-in-github",
        "colab_type": "text"
      },
      "source": [
        "<a href=\"https://colab.research.google.com/github/preetanam123/Datathon/blob/main/Datathon2.ipynb\" target=\"_parent\"><img src=\"https://colab.research.google.com/assets/colab-badge.svg\" alt=\"Open In Colab\"/></a>"
      ]
    },
    {
      "cell_type": "code",
      "execution_count": 3,
      "metadata": {
        "id": "ScxGc95J8ZMI"
      },
      "outputs": [],
      "source": [
        "import pandas as pd\n",
        "\n",
        "df = pd.read_csv('https://query1.finance.yahoo.com/v7/finance/download/AAPL?period1=1262304000&period2=1609459200&interval=1mo&events=history&includeAdjustedClose=true')\n"
      ]
    },
    {
      "cell_type": "code",
      "source": [
        "print(df.head())\n"
      ],
      "metadata": {
        "colab": {
          "base_uri": "https://localhost:8080/"
        },
        "id": "y_CsggAKMNgx",
        "outputId": "34cae3f2-6111-417d-fbf9-bd6e6e06a186"
      },
      "execution_count": 4,
      "outputs": [
        {
          "output_type": "stream",
          "name": "stdout",
          "text": [
            "         Date      Open      High       Low     Close  Adj Close       Volume\n",
            "0  2010-01-01  7.622500  7.699643  6.794643  6.859286   5.838065  15168994400\n",
            "1  2010-02-01  6.870357  7.327500  6.816071  7.307857   6.219851  10776080000\n",
            "2  2010-03-01  7.348214  8.481429  7.337500  8.392857   7.143313  12154172800\n",
            "3  2010-04-01  8.478929  9.730714  8.312500  9.324643   7.936376  12367129600\n",
            "4  2010-05-01  9.422857  9.567143  7.116071  9.174286   7.808403  18082654800\n"
          ]
        }
      ]
    },
    {
      "cell_type": "code",
      "source": [
        "import numpy as np\n",
        "from sklearn.model_selection import train_test_split\n",
        "\n",
        "X = np.array(df['Adj Close']).reshape(-1, 1)\n",
        "y = np.array(df['Adj Close'])\n",
        "\n",
        "X_train, X_test, y_train, y_test = train_test_split(X, y, test_size=0.2, random_state=0)\n"
      ],
      "metadata": {
        "id": "AKc_q2M5MUgJ"
      },
      "execution_count": 5,
      "outputs": []
    },
    {
      "cell_type": "code",
      "source": [
        "from sklearn.linear_model import LinearRegression\n",
        "from sklearn.metrics import mean_squared_error, r2_score\n",
        "\n",
        "regressor = LinearRegression()\n",
        "regressor.fit(X_train, y_train)\n",
        "\n",
        "y_pred = regressor.predict(X_test)\n",
        "\n",
        "print('Mean squared error: %.2f' % mean_squared_error(y_test, y_pred))\n",
        "print('Coefficient of determination: %.2f' % r2_score(y_test, y_pred))\n"
      ],
      "metadata": {
        "colab": {
          "base_uri": "https://localhost:8080/"
        },
        "id": "tCd9Kk5CMZXF",
        "outputId": "23e9dc39-2bbb-403f-e3c1-067c2c27c4f1"
      },
      "execution_count": 6,
      "outputs": [
        {
          "output_type": "stream",
          "name": "stdout",
          "text": [
            "Mean squared error: 0.00\n",
            "Coefficient of determination: 1.00\n"
          ]
        }
      ]
    },
    {
      "cell_type": "code",
      "source": [
        "import datetime as dt\n",
        "\n",
        "future_dates = pd.date_range(start='2021-01-01', end='2021-12-31', freq='MS')\n",
        "future_dates = pd.Series(future_dates)\n",
        "future_dates = future_dates.dt.strftime('%Y-%m-%d')\n",
        "\n",
        "future_prices = regressor.predict(np.array(df['Adj Close']).reshape(-1, 1))\n",
        "fp = future_prices[-12: ]\n",
        "\n",
        "# print(fp)\n",
        "# print(future_dates)\n",
        "\n",
        "future_df = pd.DataFrame({'Date': future_dates, 'Adj Close': fp})\n",
        "print(future_df)\n"
      ],
      "metadata": {
        "colab": {
          "base_uri": "https://localhost:8080/"
        },
        "id": "gTgpp1eAMb5V",
        "outputId": "ccd2670e-4ee0-4251-ce77-1632586f4e6a"
      },
      "execution_count": 29,
      "outputs": [
        {
          "output_type": "stream",
          "name": "stdout",
          "text": [
            "          Date   Adj Close\n",
            "0   2021-01-01   75.689438\n",
            "1   2021-02-01   66.849098\n",
            "2   2021-03-01   62.333187\n",
            "3   2021-04-01   72.018135\n",
            "4   2021-05-01   77.935478\n",
            "5   2021-06-01   89.664162\n",
            "6   2021-07-01  104.470551\n",
            "7   2021-08-01  126.866928\n",
            "8   2021-09-01  114.065010\n",
            "9   2021-10-01  107.219734\n",
            "10  2021-11-01  117.256195\n",
            "11  2021-12-01  130.916153\n"
          ]
        }
      ]
    }
  ]
}